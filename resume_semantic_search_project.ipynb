{
 "cells": [
  {
   "cell_type": "markdown",
   "id": "10cd6597-ac8a-4f42-8500-e9b1c8f47d29",
   "metadata": {},
   "source": [
    "# Resume Semantic Search Project"
   ]
  },
  {
   "cell_type": "code",
   "execution_count": 1,
   "id": "1ab56fb3-9189-4b07-a97e-ebb442c17ede",
   "metadata": {
    "scrolled": true
   },
   "outputs": [
    {
     "name": "stdout",
     "output_type": "stream",
     "text": [
      "Looking in indexes: https://download.pytorch.org/whl/cu118\n",
      "Requirement already satisfied: torch==2.1.1 in c:\\users\\rahul\\anaconda3\\envs\\llm\\lib\\site-packages (2.1.1+cu118)\n",
      "Requirement already satisfied: torchvision==0.16.1 in c:\\users\\rahul\\anaconda3\\envs\\llm\\lib\\site-packages (0.16.1+cu118)\n",
      "Requirement already satisfied: torchaudio==2.1.1 in c:\\users\\rahul\\anaconda3\\envs\\llm\\lib\\site-packages (2.1.1+cu118)\n",
      "Requirement already satisfied: filelock in c:\\users\\rahul\\anaconda3\\envs\\llm\\lib\\site-packages (from torch==2.1.1) (3.15.4)\n",
      "Requirement already satisfied: typing-extensions in c:\\users\\rahul\\anaconda3\\envs\\llm\\lib\\site-packages (from torch==2.1.1) (4.11.0)\n",
      "Requirement already satisfied: sympy in c:\\users\\rahul\\anaconda3\\envs\\llm\\lib\\site-packages (from torch==2.1.1) (1.12.1)\n",
      "Requirement already satisfied: networkx in c:\\users\\rahul\\anaconda3\\envs\\llm\\lib\\site-packages (from torch==2.1.1) (3.3)\n",
      "Requirement already satisfied: jinja2 in c:\\users\\rahul\\anaconda3\\envs\\llm\\lib\\site-packages (from torch==2.1.1) (3.1.4)\n",
      "Requirement already satisfied: fsspec in c:\\users\\rahul\\anaconda3\\envs\\llm\\lib\\site-packages (from torch==2.1.1) (2024.6.1)\n",
      "Requirement already satisfied: numpy in c:\\users\\rahul\\anaconda3\\envs\\llm\\lib\\site-packages (from torchvision==0.16.1) (1.26.4)\n",
      "Requirement already satisfied: requests in c:\\users\\rahul\\anaconda3\\envs\\llm\\lib\\site-packages (from torchvision==0.16.1) (2.32.2)\n",
      "Requirement already satisfied: pillow!=8.3.*,>=5.3.0 in c:\\users\\rahul\\anaconda3\\envs\\llm\\lib\\site-packages (from torchvision==0.16.1) (10.4.0)\n",
      "Requirement already satisfied: MarkupSafe>=2.0 in c:\\users\\rahul\\anaconda3\\envs\\llm\\lib\\site-packages (from jinja2->torch==2.1.1) (2.1.3)\n",
      "Requirement already satisfied: charset-normalizer<4,>=2 in c:\\users\\rahul\\anaconda3\\envs\\llm\\lib\\site-packages (from requests->torchvision==0.16.1) (2.0.4)\n",
      "Requirement already satisfied: idna<4,>=2.5 in c:\\users\\rahul\\anaconda3\\envs\\llm\\lib\\site-packages (from requests->torchvision==0.16.1) (3.7)\n",
      "Requirement already satisfied: urllib3<3,>=1.21.1 in c:\\users\\rahul\\anaconda3\\envs\\llm\\lib\\site-packages (from requests->torchvision==0.16.1) (2.2.2)\n",
      "Requirement already satisfied: certifi>=2017.4.17 in c:\\users\\rahul\\anaconda3\\envs\\llm\\lib\\site-packages (from requests->torchvision==0.16.1) (2024.6.2)\n",
      "Requirement already satisfied: mpmath<1.4.0,>=1.1.0 in c:\\users\\rahul\\anaconda3\\envs\\llm\\lib\\site-packages (from sympy->torch==2.1.1) (1.3.0)\n",
      "Note: you may need to restart the kernel to use updated packages.\n"
     ]
    }
   ],
   "source": [
    "pip install torch==2.1.1 torchvision==0.16.1 torchaudio==2.1.1 --index-url https://download.pytorch.org/whl/cu118"
   ]
  },
  {
   "cell_type": "code",
   "execution_count": 2,
   "id": "2a811db1-f557-4222-853a-8049237c15d6",
   "metadata": {},
   "outputs": [
    {
     "name": "stdout",
     "output_type": "stream",
     "text": [
      "cuda\n"
     ]
    }
   ],
   "source": [
    "import torch\n",
    "device = torch.device(\"cuda\" if torch.cuda.is_available() else \"cpu\")\n",
    "print (device)"
   ]
  },
  {
   "cell_type": "code",
   "execution_count": null,
   "id": "6e9ccb0b-6756-4fcb-a031-24726f4c8be9",
   "metadata": {},
   "outputs": [],
   "source": [
    "#Installing required packages \n",
    "\n",
    "pip install langchain-openai faiss-cpu streamlit pdfplumber -q"
   ]
  },
  {
   "cell_type": "code",
   "execution_count": 16,
   "id": "f2e79a82-f120-45fa-8994-b136d0c4cb6e",
   "metadata": {},
   "outputs": [],
   "source": [
    "# Importing required libraries\n",
    "\n",
    "import os\n",
    "import faiss\n",
    "import numpy as np\n",
    "import streamlit as st\n",
    "import pdfplumber\n",
    "from langchain_openai import OpenAIEmbeddings\n",
    "# from langchain.embeddings import OpenAIEmbeddings\n",
    "from langchain.vectorstores import FAISS\n",
    "from langchain.llms import OpenAI"
   ]
  },
  {
   "cell_type": "code",
   "execution_count": 8,
   "id": "7f3deb9c-a17b-4a8d-b3c8-452b15f8aa74",
   "metadata": {},
   "outputs": [
    {
     "data": {
      "text/plain": [
       "True"
      ]
     },
     "execution_count": 8,
     "metadata": {},
     "output_type": "execute_result"
    }
   ],
   "source": [
    "# Load environment variables\n",
    "\n",
    "from dotenv import load_dotenv,find_dotenv\n",
    "load_dotenv(find_dotenv(),override=True)"
   ]
  },
  {
   "cell_type": "code",
   "execution_count": 9,
   "id": "e275b15e-ee67-4d48-ba38-b91b9c8f6d25",
   "metadata": {},
   "outputs": [],
   "source": [
    "# Function to load resumes from a folder and extract text\n",
    "\n",
    "def extract_text_from_pdf(pdf_path):\n",
    "    with pdfplumber.open(pdf_path) as pdf:\n",
    "        text = ''.join(page.extract_text() for page in pdf.pages)\n",
    "    return text\n",
    "\n",
    "def load_resumes(resume_folder):\n",
    "    resumes = []\n",
    "    for filename in os.listdir(resume_folder):\n",
    "        if filename.endswith('.pdf'):\n",
    "            file_path = os.path.join(resume_folder, filename)\n",
    "            text = extract_text_from_pdf(file_path)\n",
    "            resumes.append((filename, text))\n",
    "    return resumes\n"
   ]
  },
  {
   "cell_type": "code",
   "execution_count": 10,
   "id": "521751c9-e257-41b9-b58e-54725fd52eb1",
   "metadata": {},
   "outputs": [],
   "source": [
    "# Function to generate embeddings for each resume\n",
    "\n",
    "def generate_embeddings(resumes, embedding_model):\n",
    "    embeddings = []\n",
    "    for filename, text in resumes:\n",
    "        embedding = embedding_model.embed_query(text)\n",
    "        embeddings.append((filename, embedding))\n",
    "    return embeddings\n",
    "\n",
    "# Function to create a FAISS index from the embeddings\n",
    "\n",
    "def create_faiss_index(embeddings):\n",
    "    embedding_vectors = np.array([embed for _, embed in embeddings]).astype('float32')\n",
    "    index = faiss.IndexFlatL2(embedding_vectors.shape[1])\n",
    "    index.add(embedding_vectors)\n",
    "    return index"
   ]
  },
  {
   "cell_type": "code",
   "execution_count": 11,
   "id": "0756a354-892f-4958-8bf7-b92bc95939c9",
   "metadata": {},
   "outputs": [],
   "source": [
    "# Function to search for resumes based on a query\n",
    "\n",
    "def search_resumes(query, embedding_model, index, embeddings, top_k=5):\n",
    "    query_embedding = np.array([embedding_model.embed_query(query)]).astype('float32')\n",
    "    distances, indices = index.search(query_embedding, top_k)\n",
    "    \n",
    "    results = [(embeddings[idx][0], 1 / (1 + distances[0][i])) for i, idx in enumerate(indices[0])]\n",
    "    return results"
   ]
  },
  {
   "cell_type": "code",
   "execution_count": 12,
   "id": "be152885-cabf-4bcb-9d09-a17edc5a6ffa",
   "metadata": {},
   "outputs": [],
   "source": [
    "# Console-based search function that keeps asking for queries\n",
    "\n",
    "def console_search(resume_folder, embedding_model, index, embeddings):\n",
    "    while True:\n",
    "        query = input(\"\\nEnter your search query (or press Enter to exit): \")\n",
    "        if not query.strip():\n",
    "            print(\"Exiting the program.\")\n",
    "            break\n",
    "        \n",
    "        results = search_resumes(query, embedding_model, index, embeddings)\n",
    "        \n",
    "        print(\"\\nSearch Results:\")\n",
    "        if results:\n",
    "            for filename, score in results:\n",
    "                print(f\"Filename: {filename}, Similarity Score: {score:.4f}\")\n",
    "        else:\n",
    "            print(\"No matching resumes found.\")\n"
   ]
  },
  {
   "cell_type": "code",
   "execution_count": 13,
   "id": "1147d84c-9fe0-4105-9952-1443b13a23b8",
   "metadata": {},
   "outputs": [],
   "source": [
    "# Streamlit-based search function for a web interface\n",
    "\n",
    "def streamlit_search(resume_folder, embedding_model, index, embeddings):\n",
    "    st.title(\"Resume Semantic Search\")\n",
    "\n",
    "    query = st.text_input(\"Enter your query:\")\n",
    "    top_k = st.slider(\"Number of results:\", 1, 20, 5)\n",
    "\n",
    "    if st.button(\"Search\"):\n",
    "        results = search_resumes(query, embedding_model, index, embeddings, top_k)\n",
    "        \n",
    "        st.write(\"Search Results:\")\n",
    "        if results:\n",
    "            for filename, score in results:\n",
    "                st.write(f\"**{filename}** - Similarity Score: {score:.4f}\")\n",
    "        else:\n",
    "            st.write(\"No matching resumes found.\")"
   ]
  },
  {
   "cell_type": "code",
   "execution_count": 14,
   "id": "59f6bca0-de72-4d3a-8fdd-5dae02ac0ef7",
   "metadata": {
    "scrolled": true
   },
   "outputs": [
    {
     "name": "stdin",
     "output_type": "stream",
     "text": [
      "\n",
      "Enter your search query (or press Enter to exit):  power bi\n"
     ]
    },
    {
     "name": "stdout",
     "output_type": "stream",
     "text": [
      "\n",
      "Search Results:\n",
      "Filename: RAHULKISHORE_Data Analyst.pdf, Similarity Score: 0.6596\n",
      "Filename: RAHULKISHORE_AI Engineer.pdf, Similarity Score: 0.6465\n",
      "Filename: RAHULKISHORE_Data Scientist.pdf, Similarity Score: 0.6461\n",
      "Filename: RAHULKISHORE_ML Engineer.pdf, Similarity Score: 0.6416\n",
      "Filename: RAHULKISHORE_Python Developer.pdf, Similarity Score: 0.6383\n"
     ]
    },
    {
     "name": "stdin",
     "output_type": "stream",
     "text": [
      "\n",
      "Enter your search query (or press Enter to exit):  \n"
     ]
    },
    {
     "name": "stdout",
     "output_type": "stream",
     "text": [
      "Exiting the program.\n"
     ]
    }
   ],
   "source": [
    "# Main function to run the search tool\n",
    "\n",
    "if __name__ == \"__main__\":\n",
    "    resume_folder = r\"C:\\Users\\rahul\\OneDrive\\Desktop\\DS RESUME\\Bangalore\"\n",
    "    \n",
    "    # Load the embedding model\n",
    "    embedding_model = OpenAIEmbeddings()  # or any other LangChain-compatible embedding model\n",
    "\n",
    "    # Load resumes and generate embeddings\n",
    "    resumes = load_resumes(resume_folder)\n",
    "    embeddings = generate_embeddings(resumes, embedding_model)\n",
    "\n",
    "    # Create a FAISS index from the embeddings\n",
    "    index = create_faiss_index(embeddings)\n",
    "    \n",
    "    # For console-based search\n",
    "    console_search(resume_folder, embedding_model, index, embeddings)\n",
    "    "
   ]
  },
  {
   "cell_type": "code",
   "execution_count": null,
   "id": "f05324af-d2b6-4e00-a8c1-f2e0c0bdb6fb",
   "metadata": {
    "scrolled": true
   },
   "outputs": [],
   "source": [
    "# For Streamlit-based search\n",
    "\n",
    "streamlit_search(resume_folder, embedding_model, index, embeddings)"
   ]
  },
  {
   "cell_type": "code",
   "execution_count": null,
   "id": "b6eaeb41-71e2-4358-8665-bdbe52831982",
   "metadata": {},
   "outputs": [],
   "source": []
  },
  {
   "cell_type": "code",
   "execution_count": null,
   "id": "e71a91d5-53d7-4b50-88f1-08be662c444f",
   "metadata": {},
   "outputs": [],
   "source": []
  },
  {
   "cell_type": "code",
   "execution_count": null,
   "id": "76fd6bf6-1674-4364-b2db-bf264fb5bd41",
   "metadata": {},
   "outputs": [],
   "source": []
  }
 ],
 "metadata": {
  "kernelspec": {
   "display_name": "Python 3 (ipykernel)",
   "language": "python",
   "name": "python3"
  },
  "language_info": {
   "codemirror_mode": {
    "name": "ipython",
    "version": 3
   },
   "file_extension": ".py",
   "mimetype": "text/x-python",
   "name": "python",
   "nbconvert_exporter": "python",
   "pygments_lexer": "ipython3",
   "version": "3.10.14"
  }
 },
 "nbformat": 4,
 "nbformat_minor": 5
}
